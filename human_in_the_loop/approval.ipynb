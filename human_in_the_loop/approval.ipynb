{
 "cells": [
  {
   "cell_type": "code",
   "execution_count": 9,
   "id": "a9537aa1",
   "metadata": {},
   "outputs": [],
   "source": [
    "from langgraph.graph import StateGraph, START, END, add_messages\n",
    "from typing import TypedDict, Annotated, List\n",
    "from langgraph.checkpoint.memory import MemorySaver\n",
    "from langchain_groq import ChatGroq\n",
    "from langchain_community.tools import TavilySearchResults\n",
    "from langgraph.prebuilt import ToolNode\n",
    "from langchain_core.messages import HumanMessage\n",
    "from langchain_core.runnables.config import RunnableConfig\n",
    "from dotenv import load_dotenv\n",
    "\n",
    "load_dotenv()\n",
    "\n",
    "memory = MemorySaver()\n",
    "\n",
    "search_tool = TavilySearchResults(max_results=2)\n",
    "tools = [search_tool]\n",
    "\n",
    "llm = ChatGroq(model=\"llama-3.1-8b-instant\")\n",
    "llm_with_tools = llm.bind_tools(tools=tools)\n",
    "\n",
    "class BasicState(TypedDict): \n",
    "    messages: Annotated[List, add_messages]\n",
    "\n",
    "def model(state: BasicState): \n",
    "    return {\n",
    "        \"messages\": [llm_with_tools.invoke(state[\"messages\"])]\n",
    "    }\n",
    "\n",
    "def tools_router(state: BasicState): \n",
    "    last_message = state[\"messages\"][-1]\n",
    "    if(hasattr(last_message, \"tool_calls\") and \n",
    "    len(last_message.tool_calls) > 0):\n",
    "        return \"tools\"\n",
    "    else: \n",
    "        return END\n",
    "\n",
    "\n",
    "graph = StateGraph(BasicState)\n",
    "graph.add_node(\"model\",model)\n",
    "graph.add_node(\"tools\", ToolNode(tools=tools))\n",
    "\n",
    "graph.set_entry_point(\"model\")\n",
    "graph.add_conditional_edges(\"model\", tools_router, {'tools':'tools', END:END})\n",
    "\n",
    "graph.add_edge(\"tools\", \"model\")\n",
    "\n",
    "app = graph.compile(checkpointer=memory, interrupt_before=[\"tools\"])"
   ]
  },
  {
   "cell_type": "code",
   "execution_count": 10,
   "id": "320cf466",
   "metadata": {},
   "outputs": [
    {
     "data": {
      "image/png": "[encoded data removed]",
      "text/plain": [
       "<langgraph.graph.state.CompiledStateGraph object at 0x7876781a1f00>"
      ]
     },
     "execution_count": 10,
     "metadata": {},
     "output_type": "execute_result"
    }
   ],
   "source": [
    "app"
   ]
  },
  {
   "cell_type": "code",
   "execution_count": 11,
   "id": "c6d7bfbf",
   "metadata": {},
   "outputs": [
    {
     "name": "stdout",
     "output_type": "stream",
     "text": [
      "================================\u001b[1m Human Message \u001b[0m=================================\n",
      "\n",
      "What is the current weather in Chennai?\n",
      "==================================\u001b[1m Ai Message \u001b[0m==================================\n",
      "Tool Calls:\n",
      "  tavily_search_results_json (cd93dx79g)\n",
      " Call ID: cd93dx79g\n",
      "  Args:\n",
      "    query: Chennai current weather\n"
     ]
    }
   ],
   "source": [
    "config: RunnableConfig = {\"configurable\": {\n",
    "    \"thread_id\": 1\n",
    "}}\n",
    "\n",
    "events = app.stream({\n",
    "    \"messages\": [HumanMessage(content=\"What is the current weather in Chennai?\")]\n",
    "}, config=config, stream_mode=\"values\")\n",
    "\n",
    "for event in events:\n",
    "    event[\"messages\"][-1].pretty_print()"
   ]
  },
  {
   "cell_type": "code",
   "execution_count": 12,
   "id": "95bce08d",
   "metadata": {},
   "outputs": [
    {
     "data": {
      "text/plain": [
       "('tools',)"
      ]
     },
     "execution_count": 12,
     "metadata": {},
     "output_type": "execute_result"
    }
   ],
   "source": [
    "snapshot = app.get_state(config=config)\n",
    "snapshot.next"
   ]
  },
  {
   "cell_type": "code",
   "execution_count": 13,
   "id": "119e70b6",
   "metadata": {},
   "outputs": [
    {
     "name": "stdout",
     "output_type": "stream",
     "text": [
      "==================================\u001b[1m Ai Message \u001b[0m==================================\n",
      "Tool Calls:\n",
      "  tavily_search_results_json (cd93dx79g)\n",
      " Call ID: cd93dx79g\n",
      "  Args:\n",
      "    query: Chennai current weather\n",
      "=================================\u001b[1m Tool Message \u001b[0m=================================\n",
      "Name: tavily_search_results_json\n",
      "\n",
      "[{\"title\": \"Chennai Weather Forecast 15 Jun 2025 - Times of India\", \"url\": \"https://timesofindia.indiatimes.com/weather/chennai-weather-forecast-today/600017\", \"content\": \"Today's Weather in Chennai: In Chennai today, the weather is expected to be Mostly Cloudy with a maximum temperature of 36°C and a minimum of 28°C. Sunrise\", \"score\": 0.93978655}, {\"title\": \"Chennai Weather Today (Sunday, Jun 15, 2025) - India Today\", \"url\": \"https://www.indiatoday.in/weather/chennai-weather-forecast-today\", \"content\": \"The minimum temperature in Chennai today is likely to hover around 27 degrees Celsius, while the maximum temperature might reach 30 degrees Celsius.\", \"score\": 0.9348309}]\n",
      "==================================\u001b[1m Ai Message \u001b[0m==================================\n",
      "Tool Calls:\n",
      "  tavily_search_results_json (vkddqsj6n)\n",
      " Call ID: vkddqsj6n\n",
      "  Args:\n",
      "    query: Chennai weather today temperature\n"
     ]
    }
   ],
   "source": [
    "events = app.stream(None, config, stream_mode=\"values\")\n",
    "for event in events:\n",
    "    event[\"messages\"][-1].pretty_print()"
   ]
  },
  {
   "cell_type": "code",
   "execution_count": null,
   "id": "290ee6ef",
   "metadata": {},
   "outputs": [],
   "source": []
  }
 ],
 "metadata": {
  "kernelspec": {
   "display_name": "venv",
   "language": "python",
   "name": "python3"
  },
  "language_info": {
   "codemirror_mode": {
    "name": "ipython",
    "version": 3
   },
   "file_extension": ".py",
   "mimetype": "text/x-python",
   "name": "python",
   "nbconvert_exporter": "python",
   "pygments_lexer": "ipython3",
   "version": "3.10.12"
  }
 },
 "nbformat": 4,
 "nbformat_minor": 5
}
